{
  "nbformat": 4,
  "nbformat_minor": 0,
  "metadata": {
    "colab": {
      "provenance": [],
      "include_colab_link": true
    },
    "kernelspec": {
      "name": "python3",
      "display_name": "Python 3"
    },
    "language_info": {
      "name": "python"
    }
  },
  "cells": [
    {
      "cell_type": "markdown",
      "metadata": {
        "id": "view-in-github",
        "colab_type": "text"
      },
      "source": [
        "<a href=\"https://colab.research.google.com/github/Hashirama-789/WSI-Classification/blob/main/Directed_Studies_WSI.ipynb\" target=\"_parent\"><img src=\"https://colab.research.google.com/assets/colab-badge.svg\" alt=\"Open In Colab\"/></a>"
      ]
    },
    {
      "cell_type": "code",
      "source": [
        "!pip install slideio\n",
        "from PIL import Image\n",
        "import numpy as np\n"
      ],
      "metadata": {
        "colab": {
          "base_uri": "https://localhost:8080/"
        },
        "id": "qYjH4eGF-JiI",
        "outputId": "dcb799bc-458f-400c-a2ab-48715307eb2c"
      },
      "execution_count": null,
      "outputs": [
        {
          "output_type": "stream",
          "name": "stdout",
          "text": [
            "Requirement already satisfied: slideio in /usr/local/lib/python3.10/dist-packages (2.6.2)\n",
            "Requirement already satisfied: numpy in /usr/local/lib/python3.10/dist-packages (from slideio) (1.26.4)\n"
          ]
        }
      ]
    },
    {
      "cell_type": "code",
      "source": [
        "Image.MAX_IMAGE_PIXELS = 19998266472\n"
      ],
      "metadata": {
        "id": "asnhQLWp_Y5P"
      },
      "execution_count": null,
      "outputs": []
    },
    {
      "cell_type": "code",
      "source": [
        "from google.colab import drive\n",
        "drive.mount('/content/drive')"
      ],
      "metadata": {
        "colab": {
          "base_uri": "https://localhost:8080/"
        },
        "id": "pPCTOrwSKZdZ",
        "outputId": "ecba15d1-fc85-4426-9a91-3ed0139dbe30"
      },
      "execution_count": null,
      "outputs": [
        {
          "output_type": "stream",
          "name": "stdout",
          "text": [
            "Drive already mounted at /content/drive; to attempt to forcibly remount, call drive.mount(\"/content/drive\", force_remount=True).\n"
          ]
        }
      ]
    },
    {
      "cell_type": "code",
      "source": [
        "Image.open('/content/drive/MyDrive/Directed Studies/patient_001_node_1.tif')\n"
      ],
      "metadata": {
        "id": "v23qxnWGCyrd"
      },
      "execution_count": null,
      "outputs": []
    },
    {
      "cell_type": "code",
      "source": [
        "im.size"
      ],
      "metadata": {
        "id": "YJxhFlp7C3OK"
      },
      "execution_count": null,
      "outputs": []
    },
    {
      "cell_type": "code",
      "source": [
        "type(im)"
      ],
      "metadata": {
        "id": "4p0ivfBFC4YL"
      },
      "execution_count": null,
      "outputs": []
    },
    {
      "cell_type": "code",
      "source": [
        "im_array = np.array(im)\n"
      ],
      "metadata": {
        "id": "zhUiuW60SfDn"
      },
      "execution_count": null,
      "outputs": []
    },
    {
      "cell_type": "code",
      "source": [
        "!kill -9 -1"
      ],
      "metadata": {
        "id": "RpD0SxLhP9al"
      },
      "execution_count": null,
      "outputs": []
    },
    {
      "cell_type": "markdown",
      "source": [
        "Install openslide on computer using macport."
      ],
      "metadata": {
        "id": "J3eaKPSEDRPc"
      }
    },
    {
      "cell_type": "code",
      "source": [
        "# import statements\n",
        "!pip install openslide-python\n",
        "\n",
        "\n",
        "\n"
      ],
      "metadata": {
        "id": "MoI3_4cRcICu"
      },
      "execution_count": null,
      "outputs": []
    },
    {
      "cell_type": "code",
      "source": [
        "!sudo apt-get install libopenslide0\n"
      ],
      "metadata": {
        "id": "8G9l4uOWTvD-"
      },
      "execution_count": null,
      "outputs": []
    },
    {
      "cell_type": "code",
      "source": [
        "import openslide\n",
        "import numpy as np\n",
        "import matplotlib.pyplot as plt"
      ],
      "metadata": {
        "id": "1RLUy4c_Q6Ba"
      },
      "execution_count": null,
      "outputs": []
    },
    {
      "cell_type": "code",
      "source": [
        "# get the openslide image\n",
        "slide1 = openslide.OpenSlide('/content/drive/MyDrive/Directed Studies/patient_001_node_1.tif')\n",
        "slide1"
      ],
      "metadata": {
        "id": "TpfwFPfKFHgG"
      },
      "execution_count": null,
      "outputs": []
    },
    {
      "cell_type": "code",
      "source": [
        "# number of levels in the slide, level 0 is the highest resolution, level_count-1 is the lowest resolution\n",
        "print(slide1.level_count)"
      ],
      "metadata": {
        "id": "LJQSADxYQP6V"
      },
      "execution_count": null,
      "outputs": []
    },
    {
      "cell_type": "code",
      "source": [
        "# (width, height) tuple in pixels for level 0 of the slide\n",
        "print(slide1.dimensions)"
      ],
      "metadata": {
        "id": "9cPvUauvQhOV"
      },
      "execution_count": null,
      "outputs": []
    },
    {
      "cell_type": "code",
      "source": [
        "# A list of (width, height) tuples, in pixels, one for each level of the slide.\n",
        "# level_dimensions[k] are the dimensions of level k.\n",
        "print(slide1.level_dimensions)"
      ],
      "metadata": {
        "id": "HWG1s5csQyFa"
      },
      "execution_count": null,
      "outputs": []
    },
    {
      "cell_type": "code",
      "source": [
        "# dimensions (width, height) in pixels of level 0 and 8, the first\n",
        "# and last level respectively\n",
        "print(slide1.level_dimensions[0])\n",
        "print(slide1.level_dimensions[8])"
      ],
      "metadata": {
        "id": "6FIjBadESLc7"
      },
      "execution_count": null,
      "outputs": []
    },
    {
      "cell_type": "code",
      "source": [
        "# get downsample factor for each level, 2 means it is half the original size in both width and height\n",
        "print(slide1.level_downsamples)"
      ],
      "metadata": {
        "id": "1lNo6DmmWd6o"
      },
      "execution_count": null,
      "outputs": []
    },
    {
      "cell_type": "code",
      "source": [
        "print(slide1.color_profile)"
      ],
      "metadata": {
        "id": "_8lGw1ZcXS7g"
      },
      "execution_count": null,
      "outputs": []
    },
    {
      "cell_type": "code",
      "source": [
        "# best size for level 8 and location (0,0)\n",
        "# size is in (width, height)\n",
        "slide1.read_region(location=(0, 0), level=8, size=(250,650))\n"
      ],
      "metadata": {
        "id": "qwi4x7n0YCzM"
      },
      "execution_count": null,
      "outputs": []
    },
    {
      "cell_type": "code",
      "source": [
        "# best size and location for level 8\n",
        "slide1.read_region(location=(16500, 115000), level=8, size=(140, 165))"
      ],
      "metadata": {
        "id": "f9qc34i2aeih"
      },
      "execution_count": null,
      "outputs": []
    },
    {
      "cell_type": "code",
      "source": [
        "# best size and location for level 7\n",
        "slide1.read_region(location=(16500, 115000), level=7, size=(280, 330))"
      ],
      "metadata": {
        "id": "LX1HrTy9fWXO"
      },
      "execution_count": null,
      "outputs": []
    },
    {
      "cell_type": "code",
      "source": [
        "# best size and location for level 6\n",
        "slide1.read_region(location=(16500, 115000), level=6, size=(560, 660))"
      ],
      "metadata": {
        "id": "_t-TeRhtg31U"
      },
      "execution_count": null,
      "outputs": []
    },
    {
      "cell_type": "code",
      "source": [
        "# best size and location for level 5\n",
        "slide1.read_region(location=(16500, 115000), level=5, size=(1120, 1320))"
      ],
      "metadata": {
        "id": "ARzHauW2g-Nq"
      },
      "execution_count": null,
      "outputs": []
    },
    {
      "cell_type": "code",
      "source": [
        "slide2 = openslide.OpenSlide('/content/drive/MyDrive/Directed Studies/tumor_091.tif')\n"
      ],
      "metadata": {
        "id": "85R4dFWgV2Z0"
      },
      "execution_count": null,
      "outputs": []
    },
    {
      "cell_type": "code",
      "source": [
        "print(slide2.level_count)"
      ],
      "metadata": {
        "id": "i8puUBwkWC0t"
      },
      "execution_count": null,
      "outputs": []
    },
    {
      "cell_type": "code",
      "source": [
        "print(slide2.level_dimensions)"
      ],
      "metadata": {
        "id": "kOZjbHJL9cmk"
      },
      "execution_count": null,
      "outputs": []
    },
    {
      "cell_type": "code",
      "source": [
        "print(slide2.level_dimensions[0])\n",
        "print(slide2.level_dimensions[7])\n",
        "print(slide2.level_dimensions[7][0])"
      ],
      "metadata": {
        "id": "KxCyv5USWa7O"
      },
      "execution_count": null,
      "outputs": []
    },
    {
      "cell_type": "code",
      "source": [
        "print(slide2.level_downsamples)"
      ],
      "metadata": {
        "id": "XUj59xjUWaLO"
      },
      "execution_count": null,
      "outputs": []
    },
    {
      "cell_type": "code",
      "source": [
        "print(slide2.color_profile)"
      ],
      "metadata": {
        "id": "KzBm4zNhXy3R"
      },
      "execution_count": null,
      "outputs": []
    },
    {
      "cell_type": "code",
      "source": [
        "slide2.read_region(location=(0, 0), level=7, size=(485,425))\n"
      ],
      "metadata": {
        "id": "c-oUWRdQX2r2"
      },
      "execution_count": null,
      "outputs": []
    },
    {
      "cell_type": "code",
      "source": [
        "region = slide2.read_region(location=(0, 0), level=7, size=(480,420))\n",
        "rgb_region = region.convert(\"RGB\")\n",
        "rgb_array = np.array(rgb_region)\n",
        "rgb_array = rgb_array.astype(int)\n",
        "\n",
        "plt.imshow(rgb_array)\n",
        "# plt.axis('off')  # Hide axis\n",
        "# plt.axhline(y=200, color='r', linestyle='--')\n",
        "# plt.axvline(x=250, color='g', linestyle=':')\n",
        "# plt.axvline(x=400, color='g', linestyle=':')\n",
        "# plt.axvline(x=130, color='g', linestyle=':')\n",
        "# plt.axhline(y=150, color='r', linestyle='--')\n",
        "# plt.axvline(x=142, color='g', linestyle=':')\n",
        "# plt.axvline(x=148, color='g', linestyle=':')\n",
        "# plt.axvline(x=94, color='g', linestyle=':')\n",
        "# plt.axhline(y=250, color='r', linestyle='--')\n",
        "# plt.axvline(x=170, color='g', linestyle=':')\n",
        "# plt.axvline(x=205, color='g', linestyle=':')\n",
        "# plt.axhline(y=270, color='r', linestyle='--')\n",
        "# plt.axvline(x=270, color='g', linestyle=':')\n",
        "#plt.axvline(x=266, color='g', linestyle=':')\n",
        "#plt.axvline(x=220, color='g', linestyle=':')\n",
        "plt.axvline(x=150, color='g', linestyle=':')\n",
        "plt.axhline(y=270, color='r', linestyle='--')\n",
        "\n",
        "plt.show()\n",
        "\n",
        "print(rgb_array.shape)   # coordinates are (height, width, intensity)\n",
        "print(rgb_array[0, 0])   # red, green, blue at top left\n",
        "# print(rgb_array[0, 1])   # red, green, blue at top left\n",
        "# print(rgb_array[424, 0]) # red, green, blue at bottom left\n",
        "# print(rgb_array[424, 484]) # red, green, blue at bottom right\n",
        "# print(rgb_array[0, 484]) # red, green, blue at top right\n",
        "print(rgb_array[200, 250])\n",
        "print(rgb_array[0, :])  # all the top row pixels\n",
        "# print(rgb_array[0, :].shape)\n",
        "print(rgb_array[0, :3]) # top row, first three\n",
        "# print(rgb_array[0, :3, :1])  # top row, first three, first intensity\n",
        "print(np.min(rgb_array[0, :, :1]))  # minimum first intensity, first row\n",
        "print(rgb_array[200, 250:253])\n",
        "max = (np.max(rgb_array[200, 250:400, :1]),\n",
        "       np.max(rgb_array[200, 250:400, 1:2]),\n",
        "       np.max(rgb_array[200, 250:400, 2:3]))\n",
        "print(max)           # max intensities for purple: (187, 124, 205)\n",
        "min = (np.min(rgb_array[200, 250:400, :1]),\n",
        "       np.min(rgb_array[200, 250:400, 1:2]),\n",
        "       np.min(rgb_array[200, 250:400, 2:3]))\n",
        "print(min)           # min intensities for purple: (72, 22, 99)\n",
        "median = (np.median(rgb_array[270, 170:205, :1]),\n",
        "       np.median(rgb_array[270, 170:205, 1:2]),\n",
        "       np.median(rgb_array[270, 170:205, 2:3]))\n",
        "print(median)\n",
        "# min2 = (np.min(rgb_array[270, 170:205, :1]),\n",
        "#        np.min(rgb_array[270, 170:205, 1:2]),\n",
        "#        np.min(rgb_array[270, 170:205, 2:3]).  # if > 200 on all three, then it's tumor\n",
        "# print(min2)\n",
        "# print(rgb_array[160, 130])\n",
        "# print(rgb_array[250, 94])\n",
        "print(rgb_array.shape[0]) # height\n",
        "print(rgb_array[270, 180])\n",
        "print(rgb_array[250, 270])"
      ],
      "metadata": {
        "id": "a1hu9xdIep5X"
      },
      "execution_count": null,
      "outputs": []
    },
    {
      "cell_type": "code",
      "source": [
        "def check_3_consecutive_elements_in_range(arr, lower_bound, upper_bound):\n",
        "    # Initialize a counter for consecutive elements\n",
        "    consecutive_counter = 0\n",
        "\n",
        "    # Iterate through the array\n",
        "    for elem in arr:\n",
        "        if lower_bound <= elem <= upper_bound:\n",
        "            # Increment the consecutive counter if the element is within the range\n",
        "            consecutive_counter += 1\n",
        "            if consecutive_counter == 3:\n",
        "                # Found exactly 3 consecutive elements within the range\n",
        "                return True\n",
        "        else:\n",
        "            # Reset the consecutive counter if the element is outside the range\n",
        "            consecutive_counter = 0\n",
        "\n",
        "    # Did not find exactly 3 consecutive elements within the range\n",
        "    return False"
      ],
      "metadata": {
        "id": "IDQyk9NNZ8Ag"
      },
      "execution_count": null,
      "outputs": []
    },
    {
      "cell_type": "code",
      "source": [
        "# location = (150, 250)\n",
        "def purple_up(location_height, location_width, rgb_array):\n",
        "  first_dimension_range = rgb_array[0:location_height, location_width, :1]\n",
        "  second_dimension_range = rgb_array[0:location_height, location_width, 1:2]\n",
        "  third_dimension_range = rgb_array[0:location_height, location_width, 2:3]\n",
        "\n",
        "  first = check_3_consecutive_elements_in_range(first_dimension_range, 72, 187)\n",
        "  second = check_3_consecutive_elements_in_range(second_dimension_range, 22, 124)\n",
        "  third = check_3_consecutive_elements_in_range(third_dimension_range, 99, 205)\n",
        "\n",
        "  return first and second and third\n"
      ],
      "metadata": {
        "id": "YAfm0xraU6QZ"
      },
      "execution_count": null,
      "outputs": []
    },
    {
      "cell_type": "code",
      "source": [
        "# purple up works\n",
        "print(purple_up(150, 250, rgb_array))\n",
        "print(purple_up(50, 100, rgb_array))"
      ],
      "metadata": {
        "id": "6RfiVV7Mdeyp"
      },
      "execution_count": null,
      "outputs": []
    },
    {
      "cell_type": "code",
      "source": [
        "def purple_down(location_height, location_width, rgb_array):\n",
        "  first_dimension_range = rgb_array[location_height:rgb_array.shape[0], location_width, :1]\n",
        "  second_dimension_range = rgb_array[location_height:rgb_array.shape[0], location_width, 1:2]\n",
        "  third_dimension_range = rgb_array[location_height:rgb_array.shape[0], location_width, 2:3]\n",
        "\n",
        "  first = check_3_consecutive_elements_in_range(first_dimension_range, 72, 187)\n",
        "  second = check_3_consecutive_elements_in_range(second_dimension_range, 22, 124)\n",
        "  third = check_3_consecutive_elements_in_range(third_dimension_range, 99, 205)\n",
        "\n",
        "  return first and second and third"
      ],
      "metadata": {
        "id": "c0I4S_EId5k5"
      },
      "execution_count": null,
      "outputs": []
    },
    {
      "cell_type": "code",
      "source": [
        "# purple down works\n",
        "print(purple_down(250, 200, rgb_array))\n",
        "print(purple_down(200, 450, rgb_array))"
      ],
      "metadata": {
        "id": "3dr0AVV0fyWI"
      },
      "execution_count": null,
      "outputs": []
    },
    {
      "cell_type": "code",
      "source": [
        "def purple_right(location_height, location_width, rgb_array):\n",
        "  first_dimension_range = rgb_array[location_height, location_width:rgb_array.shape[1], :1]\n",
        "  second_dimension_range = rgb_array[location_height, location_width:rgb_array.shape[1], 1:2]\n",
        "  third_dimension_range = rgb_array[location_height, location_width:rgb_array.shape[1], 2:3]\n",
        "\n",
        "  first = check_3_consecutive_elements_in_range(first_dimension_range, 72, 187)\n",
        "  second = check_3_consecutive_elements_in_range(second_dimension_range, 22, 124)\n",
        "  third = check_3_consecutive_elements_in_range(third_dimension_range, 99, 205)\n",
        "\n",
        "  return first and second and third"
      ],
      "metadata": {
        "id": "0pTMj_-_hEuk"
      },
      "execution_count": null,
      "outputs": []
    },
    {
      "cell_type": "code",
      "source": [
        "# purple right works\n",
        "print(purple_right(200, 50, rgb_array))\n",
        "print(purple_right(200, 450, rgb_array))"
      ],
      "metadata": {
        "id": "jlcS7HoIiDh1"
      },
      "execution_count": null,
      "outputs": []
    },
    {
      "cell_type": "code",
      "source": [
        "def purple_left(location_height, location_width, rgb_array):\n",
        "  first_dimension_range = rgb_array[location_height, 0:location_width, :1]\n",
        "  second_dimension_range = rgb_array[location_height, 0:location_width, 1:2]\n",
        "  third_dimension_range = rgb_array[location_height, 0:location_width, 2:3]\n",
        "\n",
        "  first = check_3_consecutive_elements_in_range(first_dimension_range, 72, 187)\n",
        "  second = check_3_consecutive_elements_in_range(second_dimension_range, 22, 124)\n",
        "  third = check_3_consecutive_elements_in_range(third_dimension_range, 99, 205)\n",
        "\n",
        "  return first and second and third"
      ],
      "metadata": {
        "id": "R3eN8Kz4jFrn"
      },
      "execution_count": null,
      "outputs": []
    },
    {
      "cell_type": "code",
      "source": [
        "# purple left works\n",
        "print(purple_left(160, 142, rgb_array))\n",
        "print(purple_left(300, 180, rgb_array))\n",
        "print(purple_left(270, 400, rgb_array))\n",
        "print(purple_left(270, 180, rgb_array))"
      ],
      "metadata": {
        "id": "kIcQuHLojV9I"
      },
      "execution_count": null,
      "outputs": []
    },
    {
      "cell_type": "code",
      "source": [
        "def inside_purple(location_height, location_width, rgb_array):\n",
        "  # given a location inside the wsi, check if there is a 5 pixel range on all four sides\n",
        "  # around it in the wsi space that are all in the intensity ranges: (72-187), (22-124), (99-205)\n",
        "  up = purple_up(location_height, location_width, rgb_array)\n",
        "  down = purple_down(location_height, location_width, rgb_array)\n",
        "  left = purple_left(location_height, location_width, rgb_array)\n",
        "  right = purple_right(location_height, location_width, rgb_array)\n",
        "\n",
        "  return up and down and left and right\n",
        "\n"
      ],
      "metadata": {
        "id": "u-JV7zlcMvyV"
      },
      "execution_count": null,
      "outputs": []
    },
    {
      "cell_type": "code",
      "source": [
        "# purple inside works\n",
        "print(inside_purple(250, 130, rgb_array))\n",
        "print(inside_purple(200, 250, rgb_array))\n",
        "print(inside_purple(200, 50, rgb_array))\n",
        "print(inside_purple(300, 180, rgb_array))\n",
        "print(inside_purple(50, 400, rgb_array))\n",
        "print()\n",
        "print(inside_purple(100, 300, rgb_array))\n",
        "print(inside_purple(100, 250, rgb_array))\n",
        "print(inside_purple(70, 250, rgb_array))\n",
        "print(inside_purple(200, 420, rgb_array))\n",
        "print(inside_purple(270, 200, rgb_array))"
      ],
      "metadata": {
        "id": "SjwvGGLsjQyo"
      },
      "execution_count": null,
      "outputs": []
    },
    {
      "cell_type": "code",
      "source": [
        "color = rgb_array[200, 200]\n",
        "print(color[1])\n",
        "abs(100-color[1])"
      ],
      "metadata": {
        "id": "t40m3FSfi1ea"
      },
      "execution_count": null,
      "outputs": []
    },
    {
      "cell_type": "code",
      "source": [
        "def at_boundary(location_height, location_width, rgb_array):\n",
        "  # given a location, check if it is at a color boundary\n",
        "  # if middle pixel (green) is different by 80, it is at boundary\n",
        "\n",
        "  # get location's green intensity value\n",
        "  location_green = rgb_array[location_height, location_width, 1]\n",
        "\n",
        "  different = False\n",
        "  rgb_neighbors = [\n",
        "        rgb_array[location_height-1, location_width, 1],  # Top neighbor green\n",
        "        rgb_array[location_height+1, location_width, 1],  # Bottom neighbor green\n",
        "        rgb_array[location_height, location_width-1, 1],  # Left neighbor green\n",
        "        rgb_array[location_height, location_width+1, 1]   # Right neighbor green\n",
        "  ]\n",
        "  for neighbor in rgb_neighbors:\n",
        "    if abs(neighbor - location_green) > 100:\n",
        "      different = True\n",
        "\n",
        "  return different\n",
        "\n",
        "\n"
      ],
      "metadata": {
        "id": "B1FLvpzFb-MI"
      },
      "execution_count": null,
      "outputs": []
    },
    {
      "cell_type": "code",
      "source": [
        "# works at height = 270\n",
        "for i in range(100, 300):\n",
        "  if(at_boundary(270, i, rgb_array)):\n",
        "    print(i)"
      ],
      "metadata": {
        "id": "a8V1VXMZH01X"
      },
      "execution_count": null,
      "outputs": []
    },
    {
      "cell_type": "code",
      "source": [
        "# kind of works at height = 150\n",
        "for i in range(200, 300):\n",
        "  if(at_boundary(150, i, rgb_array)):\n",
        "    print(i)"
      ],
      "metadata": {
        "id": "_t0pqmanQ-UP"
      },
      "execution_count": null,
      "outputs": []
    },
    {
      "cell_type": "code",
      "source": [
        "print(at_boundary(270, 147, rgb_array))\n",
        "print(at_boundary(150, 220, rgb_array))\n",
        "print(at_boundary(150, 257, rgb_array))\n",
        "\n",
        "print(at_boundary(150, 150, rgb_array))\n",
        "print(at_boundary(270, 200, rgb_array))"
      ],
      "metadata": {
        "id": "6k8zixLVkjbb"
      },
      "execution_count": null,
      "outputs": []
    },
    {
      "cell_type": "code",
      "source": [
        "location_height=50\n",
        "location_width=50\n",
        "location_green=rgb_array[location_height, location_width, 1]\n",
        "print(location_green)\n",
        "print(rgb_array[location_height-1, location_width, 1])\n",
        "print(rgb_array[location_height+1, location_width, 1])\n",
        "print(rgb_array[location_height, location_width-1, 1])\n",
        "print(rgb_array[location_height, location_width+1, 1])\n",
        "rgb_neighbors = [\n",
        "        rgb_array[location_height-1, location_width, 1],  # Top neighbor\n",
        "        rgb_array[location_height+1, location_width, 1],  # Bottom neighbor\n",
        "        rgb_array[location_height, location_width-1, 1],  # Left neighbor\n",
        "        rgb_array[location_height, location_width+1, 1]   # Right neighbor\n",
        "  ]\n",
        "for neighbor in rgb_neighbors:\n",
        "    print(abs(neighbor-location_green) > 80)\n",
        "\n",
        "\n"
      ],
      "metadata": {
        "id": "rDDWBvzXq3cq"
      },
      "execution_count": null,
      "outputs": []
    },
    {
      "cell_type": "markdown",
      "source": [
        "Tumor WSI"
      ],
      "metadata": {
        "id": "ojW-qdVPuOAp"
      }
    },
    {
      "cell_type": "code",
      "source": [
        "slide2.read_region(location=(0, 0), level=6, size=(485*2,425*2))\n"
      ],
      "metadata": {
        "id": "yMyZhN7dbzMI"
      },
      "execution_count": null,
      "outputs": []
    },
    {
      "cell_type": "markdown",
      "source": [
        "Next step: find normal wsi, and compare to tumor image."
      ],
      "metadata": {
        "id": "ClODgAq1cOCy"
      }
    },
    {
      "cell_type": "code",
      "source": [
        "slide3 = openslide.OpenSlide('/content/drive/MyDrive/Directed Studies/normal_108.tif')\n"
      ],
      "metadata": {
        "id": "5CHCz0Sosqu4"
      },
      "execution_count": null,
      "outputs": []
    },
    {
      "cell_type": "code",
      "source": [
        "print(slide3.level_count)"
      ],
      "metadata": {
        "id": "2nVB9bzZtAp4"
      },
      "execution_count": null,
      "outputs": []
    },
    {
      "cell_type": "code",
      "source": [
        "print(slide3.dimensions)"
      ],
      "metadata": {
        "id": "onCa4vBYypLv"
      },
      "execution_count": null,
      "outputs": []
    },
    {
      "cell_type": "code",
      "source": [
        "print(slide3.level_dimensions[0])\n",
        "print(slide3.level_dimensions[7])"
      ],
      "metadata": {
        "id": "H-IFcYBltIxt"
      },
      "execution_count": null,
      "outputs": []
    },
    {
      "cell_type": "code",
      "source": [
        "print(slide3.level_downsamples)"
      ],
      "metadata": {
        "id": "62ue8O3ktMvK"
      },
      "execution_count": null,
      "outputs": []
    },
    {
      "cell_type": "code",
      "source": [
        "print(slide3.color_profile)"
      ],
      "metadata": {
        "id": "OHkkY_YXtQss"
      },
      "execution_count": null,
      "outputs": []
    },
    {
      "cell_type": "code",
      "source": [
        "slide3.read_region(location=(0, 0), level=7, size=(400,300))\n"
      ],
      "metadata": {
        "id": "o5Pepg1ItTP5"
      },
      "execution_count": null,
      "outputs": []
    },
    {
      "cell_type": "markdown",
      "source": [
        "\n",
        "Normal WSI\n",
        "\n",
        "\n"
      ],
      "metadata": {
        "id": "GZpJ_K-TuHPV"
      }
    },
    {
      "cell_type": "code",
      "source": [
        "slide3.read_region(location=(0, 0), level=6, size=(400*2,300*2))\n"
      ],
      "metadata": {
        "id": "YlcgIm_Gtyr8"
      },
      "execution_count": null,
      "outputs": []
    },
    {
      "cell_type": "markdown",
      "source": [
        "I decided that tumor WSI has big chunks of white dotty areas, within the purple area."
      ],
      "metadata": {
        "id": "xHw-c79txD14"
      }
    },
    {
      "cell_type": "markdown",
      "source": [
        "Make WSI environment"
      ],
      "metadata": {
        "id": "S0V9K1Vow-dV"
      }
    },
    {
      "cell_type": "code",
      "source": [
        "from gym import Env\n",
        "from gym import spaces\n",
        "\n",
        "from gym.spaces import Discrete, Box, Tuple\n",
        "import numpy as np\n",
        "import random\n"
      ],
      "metadata": {
        "id": "IM-eJqwvrObQ"
      },
      "execution_count": null,
      "outputs": []
    },
    {
      "cell_type": "markdown",
      "source": [
        "State space: 1. pixel value from 0 to 255\n",
        "             2. pixel position"
      ],
      "metadata": {
        "id": "4HsY7CKt1n5_"
      }
    },
    {
      "cell_type": "code",
      "source": [
        "class WSIEnv(Env):\n",
        "    def __init__(self, slide_path, max_steps):\n",
        "        super(WSIEnv, self).__init__()\n",
        "\n",
        "        # Open the WSI image using OpenSlide\n",
        "        self.slide = openslide.OpenSlide(slide_path)\n",
        "\n",
        "        # Get dimensions of the WSI image\n",
        "        self.width, self.height = self.slide.dimensions\n",
        "\n",
        "        # Define the observation space\n",
        "        #pixel_value_low = 0  # Minimum pixel value\n",
        "        #pixel_value_high = 255  # Maximum pixel value\n",
        "        position_height_low = 0  # Minimum height position\n",
        "        position_width_low = 0  # Minimum width position\n",
        "        position_height_high = self.height - 1  # Maximum height position\n",
        "        position_width_high = self.width - 1  # Maximum width position\n",
        "\n",
        "        # pixel_value_space = Box(low=pixel_value_low, high=pixel_value_high, shape=(3,), dtype=np.uint8)\n",
        "        position_height_space = Box(low=position_height_low, high=position_height_high, shape=(1,), dtype=np.uint16)\n",
        "        position_width_space = Box(low=position_width_low, high=position_width_high, shape=(1,), dtype=np.uint16)\n",
        "\n",
        "        self.observation_space = Tuple((position_height_space, position_width_space))\n",
        "\n",
        "        # Define the action space\n",
        "        self.action_space = Discrete(4)  # Four possible actions: 0 - left, 1 - down, 2 - right, 3 - up\n",
        "\n",
        "        # Initialize position variables\n",
        "        self.position_height = 0  # Starting height position (top-left corner)\n",
        "        self.position_width = 0  # Starting width position (top-left corner)\n",
        "\n",
        "        # Initialize rgb_array\n",
        "        self.rgb_array = None\n",
        "\n",
        "        # Maximum number of steps for the episode\n",
        "        self.max_steps = max_steps\n",
        "        self.current_step = 0  # Initialize current step counter\n",
        "\n",
        "        self.done = False\n",
        "\n",
        "    def reset(self):\n",
        "    # Reset the environment to its initial state\n",
        "    # Return the initial observation\n",
        "      self.done = False  # Ensure done is initialized to False\n",
        "      print(f\"Resetting environment. Initial done status: {self.done}\")\n",
        "\n",
        "      region = self.slide.read_region(location=(0, 0), level=self.slide.level_count-1,\n",
        "                                    size=(self.slide.level_dimensions[self.slide.level_count-1][0],\n",
        "                                          self.slide.level_dimensions[self.slide.level_count-1][1]))\n",
        "      rgb_region = region.convert(\"RGB\")\n",
        "      self.rgb_array = np.array(rgb_region)\n",
        "      self.rgb_array = self.rgb_array.astype(int)\n",
        "\n",
        "      # Ensure position_width is within bounds\n",
        "      self.position_width = np.clip(self.position_width, 0, self.rgb_array.shape[1] - 1)\n",
        "\n",
        "      #initial_observation = {\n",
        "        #'pixel_value': self.rgb_array[0, 0],\n",
        "        #'position_height': np.array([0], dtype=np.uint16),  # Starting height position (top-left corner)\n",
        "        #'position_width': np.array([0], dtype=np.uint16)   # Starting width position (top-left corner)\n",
        "      #}\n",
        "     # Construct the initial observation as per the observation space\n",
        "      pixel_value = self.rgb_array[0, 0]  # Example value, update based on your logic\n",
        "      position_height = np.array([0], dtype=np.uint16)  # Starting height position (top-left corner)\n",
        "      position_width = np.array([0], dtype=np.uint16)   # Starting width position (top-left corner)\n",
        "      initial_observation = ((position_height, position_width))\n",
        "      return initial_observation\n",
        "\n",
        "    def check_3_consecutive_elements_in_range(self, arr, lower_bound, upper_bound):\n",
        "        # Initialize a counter for consecutive elements\n",
        "        consecutive_counter = 0\n",
        "\n",
        "        # Iterate through the array\n",
        "        for elem in arr:\n",
        "            if lower_bound <= elem <= upper_bound:\n",
        "                # Increment the consecutive counter if the element is within the range\n",
        "                consecutive_counter += 1\n",
        "                if consecutive_counter == 3:\n",
        "                    # Found exactly 3 consecutive elements within the range\n",
        "                    return True\n",
        "            else:\n",
        "                # Reset the consecutive counter if the element is outside the range\n",
        "                consecutive_counter = 0\n",
        "\n",
        "        # Did not find exactly 3 consecutive elements within the range\n",
        "        return False\n",
        "\n",
        "    def purple_up(self):\n",
        "        # Logic to check if the pixel above is purple\n",
        "        if self.position_height > 0 and self.position_width < self.rgb_array.shape[1]:\n",
        "          first_dimension_range = self.rgb_array[0:self.position_height, self.position_width, :1]\n",
        "          second_dimension_range = self.rgb_array[0:self.position_height, self.position_width, 1:2]\n",
        "          third_dimension_range = self.rgb_array[0:self.position_height, self.position_width, 2:3]\n",
        "\n",
        "          first = self.check_3_consecutive_elements_in_range(first_dimension_range, 72, 187)\n",
        "          second = self.check_3_consecutive_elements_in_range(second_dimension_range, 22, 124)\n",
        "          third = self.check_3_consecutive_elements_in_range(third_dimension_range, 99, 205)\n",
        "\n",
        "          return first and second and third\n",
        "\n",
        "        else:\n",
        "          return False\n",
        "\n",
        "    def purple_down(self):\n",
        "\n",
        "        if self.position_height < self.rgb_array.shape[0] - 1 and self.position_width < self.rgb_array.shape[1]:# Logic to check if the pixel below is purple\n",
        "          first_dimension_range = self.rgb_array[self.position_height:self.rgb_array.shape[0], self.position_width, :1]\n",
        "          second_dimension_range = self.rgb_array[self.position_height:self.rgb_array.shape[0], self.position_width, 1:2]\n",
        "          third_dimension_range = self.rgb_array[self.position_height:self.rgb_array.shape[0], self.position_width, 2:3]\n",
        "\n",
        "          first = self.check_3_consecutive_elements_in_range(first_dimension_range, 72, 187)\n",
        "          second = self.check_3_consecutive_elements_in_range(second_dimension_range, 22, 124)\n",
        "          third = self.check_3_consecutive_elements_in_range(third_dimension_range, 99, 205)\n",
        "\n",
        "          return first and second and third\n",
        "        else:\n",
        "          return False\n",
        "\n",
        "    def purple_right(self):\n",
        "        # Logic to check if the pixel to the right is purple\n",
        "        first_dimension_range = self.rgb_array[self.position_height, self.position_width:self.rgb_array.shape[1], :1]\n",
        "        second_dimension_range = self.rgb_array[self.position_height, self.position_width:self.rgb_array.shape[1], 1:2]\n",
        "        third_dimension_range = self.rgb_array[self.position_height, self.position_width:self.rgb_array.shape[1], 2:3]\n",
        "\n",
        "        first = self.check_3_consecutive_elements_in_range(first_dimension_range, 72, 187)\n",
        "        second = self.check_3_consecutive_elements_in_range(second_dimension_range, 22, 124)\n",
        "        third = self.check_3_consecutive_elements_in_range(third_dimension_range, 99, 205)\n",
        "\n",
        "        return first and second and third\n",
        "\n",
        "    def purple_left(self):\n",
        "        # Logic to check if the pixel to the left is purple\n",
        "        first_dimension_range = self.rgb_array[self.position_height, 0:self.position_width, :1]\n",
        "        second_dimension_range = self.rgb_array[self.position_height, 0:self.position_width, 1:2]\n",
        "        third_dimension_range = self.rgb_array[self.position_height, 0:self.position_width, 2:3]\n",
        "\n",
        "        first = self.check_3_consecutive_elements_in_range(first_dimension_range, 72, 187)\n",
        "        second = self.check_3_consecutive_elements_in_range(second_dimension_range, 22, 124)\n",
        "        third = self.check_3_consecutive_elements_in_range(third_dimension_range, 99, 205)\n",
        "\n",
        "        return first and second and third\n",
        "\n",
        "\n",
        "    def inside_purple(self, location_height, location_width, rgb_array):\n",
        "        up = self.purple_up()\n",
        "        down = self.purple_down()\n",
        "        left = self.purple_left()\n",
        "        right = self.purple_right()\n",
        "\n",
        "        return up and down and left and right\n",
        "\n",
        "    def check_at_boundary(self, location_height, location_width, rgb_array):\n",
        "    # Get location's green intensity value\n",
        "      if 0 <= location_width < rgb_array.shape[1]:\n",
        "        location_green = rgb_array[location_height, location_width, 1]\n",
        "      else:\n",
        "    # Handle the case where location_width is out of bounds\n",
        "    # For example, you can set location_green to a default value or raise an error.\n",
        "    # Here, I'm setting it to a default value of 0.\n",
        "        location_green = 0\n",
        "\n",
        "      different = False\n",
        "      rgb_neighbors = []\n",
        "\n",
        "    # Check top neighbor\n",
        "      if location_height > 0 and 0 <= location_width < rgb_array.shape[1]:\n",
        "        rgb_neighbors.append(rgb_array[location_height-1, location_width, 1])\n",
        "      else:\n",
        "        rgb_neighbors.append(location_green)\n",
        "\n",
        "    # Check bottom neighbor\n",
        "      if location_height < rgb_array.shape[0] - 1 and 0 <= location_width < rgb_array.shape[0] - 1:\n",
        "        rgb_neighbors.append(rgb_array[location_height+1, location_width, 1])\n",
        "      else:\n",
        "        rgb_neighbors.append(location_green)\n",
        "\n",
        "     # Check left neighbor\n",
        "      if 0 <= location_width < rgb_array.shape[1]:\n",
        "        if location_width > 0:\n",
        "            rgb_neighbors.append(rgb_array[location_height, location_width - 1, 1])\n",
        "        else:\n",
        "            rgb_neighbors.append(location_green)\n",
        "      else:\n",
        "        rgb_neighbors.append(location_green)\n",
        "\n",
        "    # Check right neighbor (adjusted to stay within bounds)\n",
        "      if 0 <= location_width < rgb_array.shape[1]:\n",
        "        if location_width < rgb_array.shape[1] - 1:\n",
        "            rgb_neighbors.append(rgb_array[location_height, location_width + 1, 1])\n",
        "        else:\n",
        "            rgb_neighbors.append(location_green)\n",
        "      else:\n",
        "        rgb_neighbors.append(location_green)\n",
        "\n",
        "      for neighbor in rgb_neighbors:\n",
        "        if abs(neighbor - location_green) > 100:\n",
        "            different = True\n",
        "\n",
        "      return different\n",
        "\n",
        "\n",
        "\n",
        "\n",
        "\n",
        "\n",
        "    def at_boundary(self, location_height, location_width, rgb_array):\n",
        "        return self.check_at_boundary(location_height, location_width, rgb_array)\n",
        "\n",
        "    def get_observation(self):\n",
        "      # Get the pixel value at the current position\n",
        "        # pixel_value = self.slide.read_region(location=(self.position_width, self.position_height), level=0,\n",
        "        #                                    size=(1, 1)).convert('L').getpixel((0, 0))\n",
        "      if 0 <= self.position_height < self.rgb_array.shape[0] and 0 <= self.position_width < self.rgb_array.shape[1]:\n",
        "        pixel_value = self.rgb_array[self.position_height, self.position_width]\n",
        "        # Construct the observation dictionary\n",
        "        observation = {\n",
        "          #'pixel_value': np.array([pixel_value], dtype=np.uint8),\n",
        "          'position_height': np.array([self.position_height], dtype=np.uint16),\n",
        "          'position_width': np.array([self.position_width], dtype=np.uint16)\n",
        "        }\n",
        "\n",
        "        return observation\n",
        "\n",
        "      else:\n",
        "        # Handle the case where position indices are out of bounds by clipping them to valid indices\n",
        "        new_position_height = np.clip(self.position_height, 0, self.rgb_array.shape[0] - 1)\n",
        "        new_position_width = np.clip(self.position_width, 0, self.rgb_array.shape[1] - 1)\n",
        "\n",
        "        # Get the pixel value at the corrected position\n",
        "        pixel_value = self.rgb_array[new_position_height, new_position_width]\n",
        "\n",
        "        # Construct the observation dictionary with corrected indices\n",
        "        observation = {\n",
        "            #'pixel_value': np.array([pixel_value], dtype=np.uint8),\n",
        "            'position_height': np.array([new_position_height], dtype=np.uint16),\n",
        "            'position_width': np.array([new_position_width], dtype=np.uint16)\n",
        "        }\n",
        "\n",
        "        return observation\n",
        "\n",
        "    def step(self, action):\n",
        "    # Step 1: Interpret the action and update the environment\n",
        "      if action == 0:  # Move left\n",
        "        if self.position_width == 0:\n",
        "          self.position_width = self.position_width\n",
        "        else:\n",
        "          self.position_width = self.position_width - 1\n",
        "\n",
        "      elif action == 1:  # Move down\n",
        "        if self.position_height == self.height - 1:  # Check if already at the bottom\n",
        "            self.position_height = self.position_height\n",
        "        elif self.position_height < self.rgb_array.shape[0] - 1:  # Check bounds\n",
        "            self.position_height = self.position_height + 1\n",
        "\n",
        "      elif action == 2:  # Move right\n",
        "        if self.position_width == self.width:\n",
        "          self.position_width = self.position_width\n",
        "        else:\n",
        "          self.position_width = self.position_width + 1\n",
        "\n",
        "      elif action == 3:  # Move up\n",
        "        if self.position_height == 0:\n",
        "          self.position_height = self.position_height\n",
        "        else:\n",
        "          self.position_height = self.position_height - 1\n",
        "\n",
        "    # Check if the agent is at a boundary and inside a purple area\n",
        "      if self.at_boundary(self.position_height, self.position_width, self.rgb_array) and \\\n",
        "            self.inside_purple(self.position_height, self.position_width, self.rgb_array):\n",
        "          reward = 1  # Reward for being at boundary and inside purple\n",
        "      else:\n",
        "          reward = 0\n",
        "\n",
        "    # Increment current step count\n",
        "      self.current_step += 1\n",
        "\n",
        "    # Check if the maximum number of steps has been reached\n",
        "      done = self.current_step >= self.max_steps\n",
        "\n",
        "    # Return the next observation, reward, done flag, and additional info\n",
        "      next_observation = self.get_observation()\n",
        "      return next_observation, reward, done, {}\n",
        "\n",
        "\n",
        "\n",
        "\n"
      ],
      "metadata": {
        "id": "5xLq2-ggw9Gc"
      },
      "execution_count": null,
      "outputs": []
    },
    {
      "cell_type": "code",
      "source": [
        "# Initialize the environment\n",
        "env = WSIEnv(slide_path=\"/content/drive/MyDrive/Directed Studies/tumor_091.tif\", max_steps=500)\n",
        "\n",
        "# Print slide properties\n",
        "print(\"Slide dimensions:\", env.slide.dimensions)\n",
        "print(\"Slide levels:\", env.slide.level_count)\n",
        "\n",
        "# Reset the environment\n",
        "initial_observation = env.reset()\n",
        "\n",
        "# Print and verify the initial observation\n",
        "print(\"Initial Observation:\", initial_observation)\n",
        "\n",
        "\n"
      ],
      "metadata": {
        "id": "YXCRzs5ecjJG"
      },
      "execution_count": null,
      "outputs": []
    },
    {
      "cell_type": "code",
      "source": [
        "# Initialize the environment\n",
        "env = WSIEnv(slide_path=\"/content/drive/MyDrive/Directed Studies/tumor_091.tif\", max_steps=360)\n",
        "\n",
        "# Reset the environment\n",
        "initial_observation = env.reset()\n",
        "print(env.done)\n",
        "env.position_height = 270\n",
        "env.position_width = 140\n",
        "done = False\n",
        "# action = 2\n",
        "# observation, reward, done, _ = env.step(action)\n",
        "#Continue taking steps until done or max_steps is reached\n",
        "while not done:\n",
        "    # Take another action\n",
        "    action = 2\n",
        "    observation, reward, done, _ = env.step(action)\n",
        "\n",
        "    # Print the observation, reward, and done status\n",
        "    print(f\"Observation: {observation}, Reward: {reward}, Done: {done}\")\n",
        "\n",
        "# After the loop ends, you can print or log the final observation, reward, and done status\n",
        "print(f\"Final Observation: {observation}, Final Reward: {reward}, Done: {done}\")\n",
        "\n",
        "\n",
        "\n"
      ],
      "metadata": {
        "id": "-W4X-RfCoZ_A"
      },
      "execution_count": null,
      "outputs": []
    },
    {
      "cell_type": "code",
      "source": [
        "\"\"\"import torch\n",
        "import torch.nn as nn\n",
        "import torch.optim as optim\n",
        "import random\n",
        "import numpy as np\n",
        "\n",
        "# Define the DQNAgent class\n",
        "class DQNAgent:\n",
        "    def __init__(self, observation_space_shape, action_space_n):\n",
        "        self.observation_space_shape = observation_space_shape\n",
        "        self.action_space_n = action_space_n\n",
        "        self.epsilon = 1.0  # Initial exploration rate\n",
        "        self.gamma = 0.99  # Discount factor\n",
        "        self.model = self.build_model()\n",
        "        self.optimizer = optim.Adam(self.model.parameters(), lr=0.001)\n",
        "\n",
        "    def build_model(self):\n",
        "        model = nn.Sequential(\n",
        "            nn.Linear(self.observation_space_shape, 64),\n",
        "            nn.ReLU(),\n",
        "            nn.Linear(64, 64),\n",
        "            nn.ReLU(),\n",
        "            nn.Linear(64, self.action_space_n)\n",
        "        )\n",
        "        return model\n",
        "\n",
        "    def select_action(self, state):\n",
        "        # Epsilon-greedy policy for action selection\n",
        "        if random.random() < self.epsilon:\n",
        "            return random.randint(0, self.action_space_n - 1)\n",
        "        else:\n",
        "            with torch.no_grad():\n",
        "                q_values = self.model(torch.tensor(state, dtype=torch.float32))\n",
        "                return q_values.argmax().item()\n",
        "\n",
        "    def train(self, state, action, reward, next_state, done):\n",
        "    # Extract values from the state dictionary and convert them to the appropriate data type\n",
        "      pixel_value = torch.tensor(state['pixel_value'], dtype=torch.float32)\n",
        "      position_height = torch.tensor([state['position_height']], dtype=torch.int64)  # Wrap in list and change to torch.int64\n",
        "      position_width = torch.tensor([state['position_width']], dtype=torch.int64)  # Wrap in list and change to torch.int64\n",
        "\n",
        "    # Construct the state tensor\n",
        "      state_tensor = torch.cat((pixel_value.unsqueeze(0),\n",
        "                              position_height.float().unsqueeze(0),\n",
        "                              position_width.float().unsqueeze(0)), dim=0)\n",
        "\n",
        "    # Similarly, extract values from the next_state dictionary and construct the next_state tensor\n",
        "      pixel_value_next = torch.tensor(next_state['pixel_value'], dtype=torch.float32)\n",
        "      position_height_next = torch.tensor([next_state['position_height']], dtype=torch.int64)  # Wrap in list and change to torch.int64\n",
        "      position_width_next = torch.tensor([next_state['position_width']], dtype=torch.int64)  # Wrap in list and change to torch.int64\n",
        "\n",
        "    # Construct the next_state tensor\n",
        "      next_state_tensor = torch.cat((pixel_value_next.unsqueeze(0),\n",
        "                                   position_height_next.float().unsqueeze(0),\n",
        "                                   position_width_next.float().unsqueeze(0)), dim=0)\n",
        "\n",
        "      action = torch.tensor(action)\n",
        "      reward = torch.tensor(reward, dtype=torch.float32)\n",
        "      done = torch.tensor(done, dtype=torch.float32)\n",
        "\n",
        "      q_value = self.model(state_tensor)[action]\n",
        "      next_q_value = self.model(next_state_tensor).max().detach()\n",
        "\n",
        "      target_q_value = reward + self.gamma * next_q_value * (1 - done)\n",
        "\n",
        "      loss = nn.MSELoss()(q_value, target_q_value)\n",
        "\n",
        "      self.optimizer.zero_grad()\n",
        "      loss.backward()\n",
        "      self.optimizer.step()\n",
        "\n",
        "      if self.epsilon > 0.01:\n",
        "        self.epsilon *= 0.99  # Decrease exploration rate over time\n",
        "\n",
        "\n",
        "\n",
        "\n",
        "\n",
        "\n",
        "\n",
        "\n",
        "\n",
        "\n",
        "# Initialize the environment and agent\n",
        "env = WSIEnv(slide_path='/content/drive/MyDrive/Directed Studies/tumor_091.tif', max_steps=1000)  # Initialize your environment\n",
        "# Calculate observation_space_shape correctly\n",
        "observation_space_shape = env.observation_space.spaces[0].shape[0] + \\\n",
        "                          env.observation_space.spaces[1].shape[0] + \\\n",
        "                          env.observation_space.spaces[2].shape[0]\n",
        "action_space_n = env.action_space.n\n",
        "\n",
        "# Initialize the agent with the correct observation space shape and action space size\n",
        "agent = DQNAgent(observation_space_shape=observation_space_shape, action_space_n=action_space_n)\n",
        "\"\"\"\n"
      ],
      "metadata": {
        "id": "f7X-aDlxYPPA"
      },
      "execution_count": null,
      "outputs": []
    },
    {
      "cell_type": "code",
      "source": [
        "\"\"\"num_episodes = 1000\n",
        "max_steps_per_episode = 1000\n",
        "\n",
        "for episode in range(num_episodes):\n",
        "    state = env.reset()\n",
        "    total_reward = 0\n",
        "\n",
        "    for step in range(max_steps_per_episode):\n",
        "        action = agent.select_action(state)\n",
        "        next_state, reward, done, _ = env.step(action)\n",
        "\n",
        "        # Ensure reward and done are converted to the appropriate data types\n",
        "        reward = torch.tensor(reward, dtype=torch.float32)\n",
        "        done = torch.tensor(done, dtype=torch.float32)\n",
        "\n",
        "        agent.train(state, action, reward, next_state, done)\n",
        "\n",
        "        total_reward += reward.item()  # Update total_reward with reward value\n",
        "        state = next_state\n",
        "\n",
        "        if done:\n",
        "            break\n",
        "\n",
        "    # Print episode information\n",
        "    print(f\"Episode {episode + 1}: Total Reward = {total_reward}\")\n",
        "\"\"\"\n"
      ],
      "metadata": {
        "id": "9O-u6EwIYzHD"
      },
      "execution_count": null,
      "outputs": []
    },
    {
      "cell_type": "code",
      "source": [
        "import torch\n",
        "import torch.nn as nn\n",
        "import torch.optim as optim\n",
        "import numpy as np\n",
        "\n",
        "class QNetwork(nn.Module):\n",
        "    def __init__(self, input_dim, output_dim):\n",
        "        super(QNetwork, self).__init__()\n",
        "        self.fc1 = nn.Linear(input_dim, 128)\n",
        "        self.fc2 = nn.Linear(128, 64)\n",
        "        self.fc3 = nn.Linear(64, output_dim)\n",
        "\n",
        "    def forward(self, x):\n",
        "        x = torch.relu(self.fc1(x))\n",
        "        x = torch.relu(self.fc2(x))\n",
        "        x = self.fc3(x)\n",
        "        return x\n",
        "\n",
        "class NFQAgent:\n",
        "    def __init__(self, observation_space, action_space, gamma=0.99, epsilon=0.1, learning_rate=0.001):\n",
        "        self.observation_space = observation_space\n",
        "        self.action_space = action_space\n",
        "        self.gamma = gamma\n",
        "        self.epsilon = epsilon\n",
        "        #print(len(observation_space.shape[0]))\n",
        "        print(len(observation_space))\n",
        "        print(self.action_space.n)\n",
        "        print(self.observation_space)\n",
        "        print(self.action_space)\n",
        "        self.q_network = QNetwork(len(observation_space), action_space.n)\n",
        "        self.optimizer = optim.Adam(self.q_network.parameters(), lr=learning_rate)\n",
        "\n",
        "    def select_action(self, state):\n",
        "        if np.random.rand() < self.epsilon:\n",
        "            return self.action_space.sample()\n",
        "        else:\n",
        "            with torch.no_grad():\n",
        "                q_values = self.q_network(torch.tensor(state, dtype=torch.float32))\n",
        "                return torch.argmax(q_values).item()\n",
        "\n",
        "    def train(self, state, action, next_state, reward, done):\n",
        "        q_values = self.q_network(torch.tensor(state, dtype=torch.float32))\n",
        "        q_value = q_values[:,action]\n",
        "\n",
        "        with torch.no_grad():\n",
        "            next_q_values = self.q_network(torch.tensor(next_state, dtype=torch.float32))\n",
        "            print(next_state)\n",
        "            max_next_q_value = torch.max(next_q_values).item()\n",
        "            target_q_value = reward + (1 - done) * self.gamma * max_next_q_value\n",
        "\n",
        "        loss = nn.MSELoss()(q_value, torch.tensor(target_q_value, dtype=torch.float32))\n",
        "        self.optimizer.zero_grad()\n",
        "        loss.backward()\n",
        "        self.optimizer.step()\n",
        "\n",
        "# Initialize your environment and NFQ agent\n",
        "env = WSIEnv(slide_path='/content/drive/MyDrive/Directed Studies/tumor_091.tif', max_steps=1000)\n",
        "print(env.observation_space, env.action_space)\n",
        "num_episodes=100\n",
        "nfq_agent = NFQAgent(env.observation_space, env.action_space)\n",
        "# Training loop\n",
        "for episode in range(num_episodes):\n",
        "    state = env.reset()\n",
        "    done = False\n",
        "\n",
        "    while not done:\n",
        "        print(state)\n",
        "        action = nfq_agent.select_action(state)\n",
        "        next_state, reward, done, _ = env.step(action)\n",
        "        nfq_agent.train(state, action, next_state, reward, done)  # Pass all required arguments to train method\n",
        "        state = (next_state['position_height'], next_state['position_width'])\n",
        "        print(torch.tensor(state, dtype=torch.float32).shape)\n",
        "\n"
      ],
      "metadata": {
        "id": "Mdfv-QiRi61_"
      },
      "execution_count": null,
      "outputs": []
    },
    {
      "cell_type": "code",
      "source": [
        "print(env.action_space)"
      ],
      "metadata": {
        "id": "oE26ZiPuRnAw"
      },
      "execution_count": null,
      "outputs": []
    },
    {
      "cell_type": "code",
      "source": [
        "print(env.action_space.n)"
      ],
      "metadata": {
        "id": "UFA4txioR_o7"
      },
      "execution_count": null,
      "outputs": []
    },
    {
      "cell_type": "code",
      "source": [],
      "metadata": {
        "id": "qQ1-VAxYSoYe"
      },
      "execution_count": null,
      "outputs": []
    }
  ]
}